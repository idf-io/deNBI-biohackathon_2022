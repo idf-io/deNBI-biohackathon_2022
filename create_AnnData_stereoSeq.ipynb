{
 "cells": [
  {
   "cell_type": "code",
   "execution_count": 1,
   "id": "92ce3fc4-c863-4aa5-8ff2-695ed391eaf6",
   "metadata": {},
   "outputs": [],
   "source": [
    "\n",
    "import seaborn as sns\n",
    "\n",
    "import numpy as np\n",
    "import pandas as pd\n",
    "from pandas.api.types import CategoricalDtype\n",
    "from scipy import sparse\n",
    "import anndata as ad"
   ]
  },
  {
   "cell_type": "code",
   "execution_count": 2,
   "id": "438f57a3-b51f-4b23-a8be-b0cafb32550f",
   "metadata": {},
   "outputs": [],
   "source": [
    "# base_folder='/home/jovyan/scratch/datasets/stereoSeq/'\n",
    "# data_folder=base_folder+'/BGIResearch-2022/'\n",
    "\n",
    "# analysis_folder='/home/jovyan/scratch/userfolders/sahays/stereoseq_pipeline_sahays/analysis_sahays/'\n",
    "# os.system('mkdir -p '+analysis_folder)\n",
    "\n",
    "data_folder = './input/stereopy_demo_data/'\n",
    "raw_input= data_folder+'SS200000135TL_D1.cellbin.gem' #insert the path to the downloaded image \n",
    "df = pd.read_csv(raw_input, sep='\\t', comment='#')\n",
    "df=df[['geneID', 'x', 'y', 'MIDCount']]"
   ]
  },
  {
   "cell_type": "code",
   "execution_count": 3,
   "id": "4a55e66c-2dcf-4b35-a91e-988a9f34bede",
   "metadata": {},
   "outputs": [],
   "source": [
    "df['xy_pos']=df.x.astype(str)+':'+df.y.astype(str)\n"
   ]
  },
  {
   "cell_type": "code",
   "execution_count": 4,
   "id": "69f87c13-f105-4c0b-be22-ca2bd0a05a67",
   "metadata": {},
   "outputs": [],
   "source": [
    "# create the var data\n",
    "gene_info=pd.DataFrame(index=df.geneID.unique())\n",
    "gene_info['gene_index']=range(1, len(gene_info.index.values)+1)\n",
    "gene_info['gene_index']=gene_info.gene_index.astype(str)\n",
    "gene_info['gene_name']=gene_info.index\n",
    "gene_info.index=gene_info.gene_index.values\n",
    "#gene_info=gene_info[['gene_name']]\n"
   ]
  },
  {
   "cell_type": "code",
   "execution_count": 5,
   "id": "24b631d4-951e-417e-ac10-716f094debe9",
   "metadata": {},
   "outputs": [],
   "source": [
    "# create the obs data\n",
    "\n",
    "bead_info = pd.DataFrame(index=df.xy_pos.unique())\n",
    "bead_info['bead_index']=range(1, len(bead_info.index.values)+1)\n",
    "bead_info['bead_index']=bead_info.bead_index.astype(str)\n",
    "bead_info['bead_xy_pos']=bead_info.index\n",
    "bead_info.index=bead_info.bead_index.values\n",
    "bead_info[['x_coords', 'y_coords']]= bead_info['bead_xy_pos'].str.split(\":\",expand=True)"
   ]
  },
  {
   "cell_type": "code",
   "execution_count": 6,
   "id": "62010060-8694-41b2-93fe-661ec6c47c0c",
   "metadata": {},
   "outputs": [],
   "source": [
    "df=df.merge(bead_info[['bead_index', 'bead_xy_pos']], left_on='xy_pos', right_on='bead_xy_pos')\n",
    "df=df.merge(gene_info[['gene_index', 'gene_name']], left_on='geneID', right_on='gene_name')\n",
    "df=df[['MIDCount', 'gene_index', 'bead_index']]"
   ]
  },
  {
   "cell_type": "code",
   "execution_count": 7,
   "id": "7810bdb6-d8e7-49f3-ba48-c7ab31870d0c",
   "metadata": {},
   "outputs": [],
   "source": [
    "df.set_index(['gene_index', 'bead_index'], inplace=True)\n",
    "df.reset_index(inplace=True)\n",
    "df['bead_index']=df['bead_index'].astype(int) \n",
    "df['gene_index']=df['gene_index'].astype(int)"
   ]
  },
  {
   "cell_type": "code",
   "execution_count": 8,
   "id": "46cd09a1-97c4-41fa-b8d7-b2d9a3a8b8be",
   "metadata": {},
   "outputs": [],
   "source": [
    "mat = sparse.coo_matrix((df.MIDCount, (df['bead_index'], df['gene_index'])))\n",
    "csr = mat.tocsr()"
   ]
  },
  {
   "cell_type": "code",
   "execution_count": 9,
   "id": "2fcabf62-7f6e-4d4b-9a3d-6a7352b4ddca",
   "metadata": {},
   "outputs": [
    {
     "name": "stderr",
     "output_type": "stream",
     "text": [
      "/tmp/ipykernel_235736/2225634509.py:1: FutureWarning: X.dtype being converted to np.float32 from int64. In the next version of anndata (0.9) conversion will not be automatic. Pass dtype explicitly to avoid this warning. Pass `AnnData(X, dtype=X.dtype, ...)` to get the future behavour.\n",
      "  adata = ad.AnnData(csr)\n"
     ]
    }
   ],
   "source": [
    "adata = ad.AnnData(csr)\n"
   ]
  },
  {
   "cell_type": "code",
   "execution_count": 10,
   "id": "83e5148d-3c40-4001-b834-a7f5237903cc",
   "metadata": {},
   "outputs": [
    {
     "ename": "ValueError",
     "evalue": "Length of passed value for obs_names is 8119736, but this AnnData has shape: (8119737, 22414)",
     "output_type": "error",
     "traceback": [
      "\u001b[0;31m---------------------------------------------------------------------------\u001b[0m",
      "\u001b[0;31mValueError\u001b[0m                                Traceback (most recent call last)",
      "Cell \u001b[0;32mIn[10], line 1\u001b[0m\n\u001b[0;32m----> 1\u001b[0m adata\u001b[39m.\u001b[39;49mobs_names \u001b[39m=\u001b[39m df[\u001b[39m'\u001b[39m\u001b[39mbead_index\u001b[39m\u001b[39m'\u001b[39m]\u001b[39m.\u001b[39mdrop_duplicates(keep\u001b[39m=\u001b[39m\u001b[39m'\u001b[39m\u001b[39mfirst\u001b[39m\u001b[39m'\u001b[39m)\u001b[39m.\u001b[39mastype(\u001b[39mstr\u001b[39m)\u001b[39m.\u001b[39mvalues\n\u001b[1;32m      2\u001b[0m adata\u001b[39m.\u001b[39mvar_names\u001b[39m=\u001b[39m df[\u001b[39m'\u001b[39m\u001b[39mgene_index\u001b[39m\u001b[39m'\u001b[39m]\u001b[39m.\u001b[39mdrop_duplicates(keep\u001b[39m=\u001b[39m\u001b[39m'\u001b[39m\u001b[39mfirst\u001b[39m\u001b[39m'\u001b[39m)\u001b[39m.\u001b[39mastype(\u001b[39mstr\u001b[39m)\u001b[39m.\u001b[39mvalues\n",
      "File \u001b[0;32m~/mambaforge/envs/stereoSeq/lib/python3.8/site-packages/anndata/_core/anndata.py:872\u001b[0m, in \u001b[0;36mAnnData.obs_names\u001b[0;34m(self, names)\u001b[0m\n\u001b[1;32m    870\u001b[0m \u001b[39m@obs_names\u001b[39m\u001b[39m.\u001b[39msetter\n\u001b[1;32m    871\u001b[0m \u001b[39mdef\u001b[39;00m \u001b[39mobs_names\u001b[39m(\u001b[39mself\u001b[39m, names: Sequence[\u001b[39mstr\u001b[39m]):\n\u001b[0;32m--> 872\u001b[0m     names \u001b[39m=\u001b[39m \u001b[39mself\u001b[39;49m\u001b[39m.\u001b[39;49m_prep_dim_index(names, \u001b[39m\"\u001b[39;49m\u001b[39mobs\u001b[39;49m\u001b[39m\"\u001b[39;49m)\n\u001b[1;32m    873\u001b[0m     \u001b[39mself\u001b[39m\u001b[39m.\u001b[39m_set_dim_index(names, \u001b[39m\"\u001b[39m\u001b[39mobs\u001b[39m\u001b[39m\"\u001b[39m)\n",
      "File \u001b[0;32m~/mambaforge/envs/stereoSeq/lib/python3.8/site-packages/anndata/_core/anndata.py:810\u001b[0m, in \u001b[0;36mAnnData._prep_dim_index\u001b[0;34m(self, value, attr)\u001b[0m\n\u001b[1;32m    805\u001b[0m \u001b[39m\u001b[39m\u001b[39m\"\"\"Prepares index to be uses as obs_names or var_names for AnnData object.AssertionError\u001b[39;00m\n\u001b[1;32m    806\u001b[0m \n\u001b[1;32m    807\u001b[0m \u001b[39mIf a pd.Index is passed, this will use a reference, otherwise a new index object is created.\u001b[39;00m\n\u001b[1;32m    808\u001b[0m \u001b[39m\"\"\"\u001b[39;00m\n\u001b[1;32m    809\u001b[0m \u001b[39mif\u001b[39;00m \u001b[39mself\u001b[39m\u001b[39m.\u001b[39mshape[attr \u001b[39m==\u001b[39m \u001b[39m\"\u001b[39m\u001b[39mvar\u001b[39m\u001b[39m\"\u001b[39m] \u001b[39m!=\u001b[39m \u001b[39mlen\u001b[39m(value):\n\u001b[0;32m--> 810\u001b[0m     \u001b[39mraise\u001b[39;00m \u001b[39mValueError\u001b[39;00m(\n\u001b[1;32m    811\u001b[0m         \u001b[39mf\u001b[39m\u001b[39m\"\u001b[39m\u001b[39mLength of passed value for \u001b[39m\u001b[39m{\u001b[39;00mattr\u001b[39m}\u001b[39;00m\u001b[39m_names is \u001b[39m\u001b[39m{\u001b[39;00m\u001b[39mlen\u001b[39m(value)\u001b[39m}\u001b[39;00m\u001b[39m, but this AnnData has shape: \u001b[39m\u001b[39m{\u001b[39;00m\u001b[39mself\u001b[39m\u001b[39m.\u001b[39mshape\u001b[39m}\u001b[39;00m\u001b[39m\"\u001b[39m\n\u001b[1;32m    812\u001b[0m     )\n\u001b[1;32m    813\u001b[0m \u001b[39mif\u001b[39;00m \u001b[39misinstance\u001b[39m(value, pd\u001b[39m.\u001b[39mIndex) \u001b[39mand\u001b[39;00m \u001b[39mnot\u001b[39;00m \u001b[39misinstance\u001b[39m(\n\u001b[1;32m    814\u001b[0m     value\u001b[39m.\u001b[39mname, (\u001b[39mstr\u001b[39m, \u001b[39mtype\u001b[39m(\u001b[39mNone\u001b[39;00m))\n\u001b[1;32m    815\u001b[0m ):\n\u001b[1;32m    816\u001b[0m     \u001b[39mraise\u001b[39;00m \u001b[39mValueError\u001b[39;00m(\n\u001b[1;32m    817\u001b[0m         \u001b[39mf\u001b[39m\u001b[39m\"\u001b[39m\u001b[39mAnnData expects .\u001b[39m\u001b[39m{\u001b[39;00mattr\u001b[39m}\u001b[39;00m\u001b[39m.index.name to be a string or None, \u001b[39m\u001b[39m\"\u001b[39m\n\u001b[1;32m    818\u001b[0m         \u001b[39mf\u001b[39m\u001b[39m\"\u001b[39m\u001b[39mbut you passed a name of type \u001b[39m\u001b[39m{\u001b[39;00m\u001b[39mtype\u001b[39m(value\u001b[39m.\u001b[39mname)\u001b[39m.\u001b[39m\u001b[39m__name__\u001b[39m\u001b[39m!r}\u001b[39;00m\u001b[39m\"\u001b[39m\n\u001b[1;32m    819\u001b[0m     )\n",
      "\u001b[0;31mValueError\u001b[0m: Length of passed value for obs_names is 8119736, but this AnnData has shape: (8119737, 22414)"
     ]
    }
   ],
   "source": [
    "adata.obs_names = df['bead_index'].drop_duplicates(keep='first').astype(str).values\n",
    "adata.var_names= df['gene_index'].drop_duplicates(keep='first').astype(str).values"
   ]
  },
  {
   "cell_type": "code",
   "execution_count": null,
   "id": "bd432cbe-8aa3-44c4-8579-f7c31f98aa57",
   "metadata": {},
   "outputs": [],
   "source": [
    "df['bead_index'].drop_duplicates(keep='first').astype(str).values"
   ]
  },
  {
   "cell_type": "code",
   "execution_count": null,
   "id": "a85f11bd-ad48-4d4f-83ec-cdea4c5c61bd",
   "metadata": {},
   "outputs": [],
   "source": [
    "adata"
   ]
  },
  {
   "cell_type": "code",
   "execution_count": null,
   "id": "d2b0f36c-b7c4-49b0-b424-b576105d8f89",
   "metadata": {},
   "outputs": [],
   "source": [
    "adata.var=gene_info[['gene_name']]\n",
    "adata.obs=bead_info[['x_coords', 'y_coords']]"
   ]
  },
  {
   "cell_type": "code",
   "execution_count": null,
   "id": "9f6519a9-658e-4a33-802d-f199722a56ed",
   "metadata": {},
   "outputs": [],
   "source": [
    "adata.write(data_folder+'converted_SS200000135TL_D1.h5ad', compression=\"gzip\")"
   ]
  },
  {
   "cell_type": "code",
   "execution_count": null,
   "id": "f88a47b2-e2b3-47af-a597-3df1f0622ee6",
   "metadata": {},
   "outputs": [],
   "source": [
    "df.index.names"
   ]
  },
  {
   "cell_type": "code",
   "execution_count": null,
   "id": "1cdb4c6b-26c4-4af3-89cb-3ce75d9a821d",
   "metadata": {},
   "outputs": [],
   "source": [
    "coo = sparse.coo_matrix((df[\"MIDCount\"], (bead_index, gene_index)), shape=shape)"
   ]
  },
  {
   "cell_type": "code",
   "execution_count": null,
   "id": "bd76c388-e872-4835-94ed-a19c59515e1c",
   "metadata": {},
   "outputs": [],
   "source": []
  },
  {
   "cell_type": "code",
   "execution_count": null,
   "id": "c2df57e0-1091-48cf-9739-35b16afa908e",
   "metadata": {},
   "outputs": [],
   "source": []
  },
  {
   "cell_type": "code",
   "execution_count": null,
   "id": "5b495394-57e7-4ef6-83fc-37d3a8dcb94d",
   "metadata": {},
   "outputs": [],
   "source": []
  },
  {
   "cell_type": "code",
   "execution_count": null,
   "id": "6bcfa3a6-1d64-4784-a29a-051c5b3777a9",
   "metadata": {},
   "outputs": [],
   "source": []
  },
  {
   "cell_type": "code",
   "execution_count": null,
   "id": "5d4aad78-1b53-47ab-bf1d-ea4ab8dba044",
   "metadata": {},
   "outputs": [],
   "source": []
  },
  {
   "cell_type": "code",
   "execution_count": null,
   "id": "d1f1b913-1ce7-478f-b804-42a947b1232b",
   "metadata": {},
   "outputs": [],
   "source": []
  },
  {
   "cell_type": "code",
   "execution_count": null,
   "id": "00362dce-6ba7-446f-8e28-a23f14125d3a",
   "metadata": {},
   "outputs": [],
   "source": []
  },
  {
   "cell_type": "code",
   "execution_count": null,
   "id": "f85781b1-2798-4e07-984e-40e81706df5d",
   "metadata": {},
   "outputs": [],
   "source": []
  }
 ],
 "metadata": {
  "kernelspec": {
   "display_name": "stereoSeq",
   "language": "python",
   "name": "python3"
  },
  "language_info": {
   "codemirror_mode": {
    "name": "ipython",
    "version": 3
   },
   "file_extension": ".py",
   "mimetype": "text/x-python",
   "name": "python",
   "nbconvert_exporter": "python",
   "pygments_lexer": "ipython3",
   "version": "3.8.15 | packaged by conda-forge | (default, Nov 22 2022, 08:46:39) \n[GCC 10.4.0]"
  },
  "vscode": {
   "interpreter": {
    "hash": "a6565375d06605dde7504b0dbd9873557d253cad3a2cef4032be81d6cddf1ce0"
   }
  }
 },
 "nbformat": 4,
 "nbformat_minor": 5
}
